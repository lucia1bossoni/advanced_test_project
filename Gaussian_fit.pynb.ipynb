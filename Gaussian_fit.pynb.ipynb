{
 "cells": [
  {
   "cell_type": "code",
   "execution_count": 3,
   "metadata": {
    "collapsed": false
   },
   "outputs": [
    {
     "name": "stdout",
     "output_type": "stream",
     "text": [
      "Best paramaters gaussian= [ 2.43596394  0.22677875  1.26601682  0.02419241]\n",
      "Best paramaters lorentzian= [ 2.13036141  0.22907576  1.55871473 -0.05066785]\n"
     ]
    },
    {
     "data": {
      "image/png": "[encoded data removed]",
      "text/plain": [
       "<matplotlib.figure.Figure at 0x7fc94dba0c18>"
      ]
     },
     "metadata": {},
     "output_type": "display_data"
    }
   ],
   "source": [
    "\"\"\"Gaussian model. This module needs 4 input parameters, that are initialising parameters:\n",
    "mean gauss=mu\n",
    "sigma gauss=sigma\n",
    "offset=off\n",
    "scaling factor=sc\"\"\"\n",
    "\n",
    "import numpy as np\n",
    "from scipy.optimize import curve_fit\n",
    "%matplotlib inline\n",
    "import matplotlib.pyplot as plt\n",
    "\n",
    "\n",
    "#model definition\n",
    "\n",
    "def gaussian(x, sc, mu, sigma, off):\n",
    "        \n",
    "    gauss=sc * np.exp(-(x-mu)**2 /sigma)+off\n",
    "    return gauss\n",
    "    \n",
    "def lorentzian(x, sc, mu, FWHM, off):\n",
    "        \n",
    "    lor=sc*FWHM/(2*((x-mu)**2+(FWHM/2)**2))+off\n",
    "    return lor\n",
    "        \n",
    "\n",
    "#simulates data\n",
    "\n",
    "x = np.linspace(-10,10,200) \n",
    "y = gaussian(x, 2.33, 0.21, 1.51,0.0) + np.random.normal(0, 0.4, len(x))\n",
    "\n",
    "#gaussian fit\n",
    "\n",
    "init_vals = [1, 0, 1,0]     # for [amp, cen, wid,0ff]\n",
    "best_vals_g, covar_g = curve_fit(gaussian, x, y, p0=init_vals)\n",
    "print(\"Best paramaters gaussian=\", best_vals_g)\n",
    "\n",
    "y_fit_g=gaussian(x,best_vals_g[0],best_vals_g[1],best_vals_g[2],best_vals_g[3])\n",
    "\n",
    "\n",
    "#lorentzian fit\n",
    "init_vals = [1, 0, 1,0]     # for [amp, cen, wid,0ff]\n",
    "best_vals_f, covar_f = curve_fit(lorentzian, x, y, p0=init_vals)\n",
    "print(\"Best paramaters lorentzian=\", best_vals_f)\n",
    "\n",
    "y_fit_l=lorentzian(x,best_vals_f[0],best_vals_f[1],best_vals_f[2],best_vals_f[3])\n",
    "\n",
    "#evaulate best model\n",
    "\n",
    "\n",
    "##plot results\n",
    "\n",
    "plt.scatter(x, y, c='b', marker='+',linewidth=5, color='r', label='Simulated Data')\n",
    "plt.plot(x, y_fit_g, 'g', linewidth=2, label='leastsq fit Gaussian')\n",
    "plt.plot(x, y_fit_l, 'r', linewidth=2, label='leastsq fit Loren')\n",
    "plt.grid(which='major')\n",
    "plt.legend(loc=8)\n",
    "plt.show()\n",
    "\n",
    "\n",
    "\n",
    "    "
   ]
  },
  {
   "cell_type": "code",
   "execution_count": null,
   "metadata": {
    "collapsed": true
   },
   "outputs": [],
   "source": []
  }
 ],
 "metadata": {
  "kernelspec": {
   "display_name": "Python 3",
   "language": "python",
   "name": "python3"
  },
  "language_info": {
   "codemirror_mode": {
    "name": "ipython",
    "version": 3
   },
   "file_extension": ".py",
   "mimetype": "text/x-python",
   "name": "python",
   "nbconvert_exporter": "python",
   "pygments_lexer": "ipython3",
   "version": "3.4.0"
  }
 },
 "nbformat": 4,
 "nbformat_minor": 0
}
